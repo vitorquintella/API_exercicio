{
  "nbformat": 4,
  "nbformat_minor": 0,
  "metadata": {
    "colab": {
      "name": "Dicas uteis e funções rápidas",
      "provenance": [],
      "authorship_tag": "ABX9TyNWaPRGTYI4W9yP3uMzPokq",
      "include_colab_link": true
    },
    "kernelspec": {
      "name": "python3",
      "display_name": "Python 3"
    },
    "language_info": {
      "name": "python"
    }
  },
  "cells": [
    {
      "cell_type": "markdown",
      "metadata": {
        "id": "view-in-github",
        "colab_type": "text"
      },
      "source": [
        "<a href=\"https://colab.research.google.com/github/vitorquintella/API_exercicio/blob/main/Dicas_uteis_e_fun%C3%A7%C3%B5es_r%C3%A1pidas.ipynb\" target=\"_parent\"><img src=\"https://colab.research.google.com/assets/colab-badge.svg\" alt=\"Open In Colab\"/></a>"
      ]
    },
    {
      "cell_type": "markdown",
      "source": [
        "# Pandas Manipulação"
      ],
      "metadata": {
        "id": "k4jcEGcX-w48"
      }
    },
    {
      "cell_type": "code",
      "source": [
        "import pandas as pd"
      ],
      "metadata": {
        "id": "zHRjtTSS_Rm7"
      },
      "execution_count": 2,
      "outputs": []
    },
    {
      "cell_type": "code",
      "source": [
        "# Ler um csv direto de um site\n",
        "uci_url = \"https://archive.ics.uci.edu/ml/machine-learning-databases/wine-quality/\"\n",
        "df= pd.read_csv(uci_url + 'winequality-red.csv', sep =';')"
      ],
      "metadata": {
        "id": "5a2QGzzh-0ST"
      },
      "execution_count": 3,
      "outputs": []
    },
    {
      "cell_type": "code",
      "execution_count": 4,
      "metadata": {
        "colab": {
          "base_uri": "https://localhost:8080/"
        },
        "id": "NoIB62Pv-sZ3",
        "outputId": "cad67c3c-36fb-4cd8-a539-69f4bfbe7bf2"
      },
      "outputs": [
        {
          "output_type": "stream",
          "name": "stdout",
          "text": [
            "Index(['fixed acidity', 'volatile acidity', 'citric acid', 'residual sugar',\n",
            "       'chlorides', 'free sulfur dioxide', 'total sulfur dioxide', 'density',\n",
            "       'pH', 'sulphates', 'alcohol', 'quality'],\n",
            "      dtype='object')\n",
            "Index(['fixed_acidity', 'volatile_acidity', 'citric_acid', 'residual_sugar',\n",
            "       'chlorides', 'free_sulfur_dioxide', 'total_sulfur_dioxide', 'density',\n",
            "       'pH', 'sulphates', 'alcohol', 'quality'],\n",
            "      dtype='object')\n"
          ]
        }
      ],
      "source": [
        "print(df.columns)\n",
        "\n",
        "# Renomear colunas, Remove espaço from column names usando lambda\n",
        "df = df.rename(columns=lambda x: x.replace(' ', '_'))\n",
        "\n",
        "print(df.columns)"
      ]
    },
    {
      "cell_type": "code",
      "source": [
        ""
      ],
      "metadata": {
        "id": "VWSxVHkP_Obb"
      },
      "execution_count": null,
      "outputs": []
    }
  ]
}